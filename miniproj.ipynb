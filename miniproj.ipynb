{
  "nbformat": 4,
  "nbformat_minor": 0,
  "metadata": {
    "colab": {
      "provenance": [],
      "gpuType": "T4"
    },
    "kernelspec": {
      "name": "python3",
      "display_name": "Python 3"
    },
    "language_info": {
      "name": "python"
    },
    "accelerator": "GPU"
  },
  "cells": [
    {
      "cell_type": "code",
      "execution_count": null,
      "metadata": {
        "id": "7JW11OADlabd"
      },
      "outputs": [],
      "source": [
        "# Python MPR"
      ]
    },
    {
      "cell_type": "code",
      "source": [
        "from google.colab import drive\n",
        "drive.mount('/content/drive')"
      ],
      "metadata": {
        "colab": {
          "base_uri": "https://localhost:8080/"
        },
        "id": "q3eo5KKIo_8Q",
        "outputId": "b354f8bb-3712-4d5a-9a43-2696ddf059f2"
      },
      "execution_count": null,
      "outputs": [
        {
          "output_type": "stream",
          "name": "stdout",
          "text": [
            "Mounted at /content/drive\n"
          ]
        }
      ]
    },
    {
      "cell_type": "code",
      "source": [
        "!rm -rf /content/ISL-to-english-ML"
      ],
      "metadata": {
        "id": "x3tDnXDlu0wL"
      },
      "execution_count": null,
      "outputs": []
    },
    {
      "cell_type": "code",
      "source": [
        "!git clone https://github.com/MeetRaut/ISL-to-english-ML.git"
      ],
      "metadata": {
        "colab": {
          "base_uri": "https://localhost:8080/"
        },
        "id": "IkSHRXcFmnGd",
        "outputId": "157bb6e9-b660-49ce-e7c2-e1f5f6ebed05"
      },
      "execution_count": null,
      "outputs": [
        {
          "output_type": "stream",
          "name": "stdout",
          "text": [
            "Cloning into 'ISL-to-english-ML'...\n",
            "remote: Enumerating objects: 9977, done.\u001b[K\n",
            "remote: Total 9977 (delta 0), reused 0 (delta 0), pack-reused 9977\u001b[K\n",
            "Receiving objects: 100% (9977/9977), 176.26 MiB | 16.00 MiB/s, done.\n",
            "Resolving deltas: 100% (179/179), done.\n",
            "Updating files: 100% (9565/9565), done.\n"
          ]
        }
      ]
    },
    {
      "cell_type": "code",
      "source": [
        "from keras.utils import to_categorical\n",
        "from keras.utils import to_categorical\n",
        "from keras.models import Sequential\n",
        "from keras.layers import Dense, Conv2D, Dropout, Flatten, MaxPooling2D\n",
        "from keras.preprocessing.image import ImageDataGenerator\n",
        "from keras.callbacks import TensorBoard\n",
        "import os"
      ],
      "metadata": {
        "id": "cwMFsvfhpsLq"
      },
      "execution_count": null,
      "outputs": []
    },
    {
      "cell_type": "code",
      "source": [
        "train_datagen = ImageDataGenerator(\n",
        "rescale=1./255,\n",
        ")\n",
        "val_datagen = ImageDataGenerator (rescale=1./255)\n",
        "batch_size = 128\n",
        "train_generator=train_datagen.flow_from_directory(\n",
        "'/content/ISL-to-english-ML/Data',\n",
        "target_size=(128, 128),\n",
        "batch_size=batch_size,\n",
        "class_mode='categorical',\n",
        "color_mode='grayscale'\n",
        ")\n",
        "validation_generator = val_datagen.flow_from_directory(\n",
        "'/content/ISL-to-english-ML/val',\n",
        "target_size=(128, 128),\n",
        "batch_size=batch_size,\n",
        "class_mode='categorical',\n",
        "color_mode='grayscale'\n",
        ")\n",
        "\n"
      ],
      "metadata": {
        "id": "KQJRCaB5qecA",
        "colab": {
          "base_uri": "https://localhost:8080/"
        },
        "outputId": "590d7ef6-48c2-43f9-d65a-258c6962e86b"
      },
      "execution_count": null,
      "outputs": [
        {
          "output_type": "stream",
          "name": "stdout",
          "text": [
            "Found 4687 images belonging to 36 classes.\n",
            "Found 4872 images belonging to 36 classes.\n"
          ]
        }
      ]
    },
    {
      "cell_type": "code",
      "source": [
        "classNames = list(train_generator.class_indices.keys())\n",
        "print (classNames)"
      ],
      "metadata": {
        "colab": {
          "base_uri": "https://localhost:8080/"
        },
        "id": "tXyFpoVpv3D5",
        "outputId": "7a7cba93-1e63-4c57-a354-0e4c4f8ebef6"
      },
      "execution_count": null,
      "outputs": [
        {
          "output_type": "stream",
          "name": "stdout",
          "text": [
            "['0', '1', '2', '3', '4', '5', '6', '7', '8', '9', 'A', 'B', 'C', 'D', 'E', 'F', 'G', 'H', 'I', 'J', 'K', 'L', 'M', 'N', 'O', 'P', 'Q', 'R', 'S', 'T', 'U', 'V', 'W', 'X', 'Y', 'Z']\n"
          ]
        }
      ]
    },
    {
      "cell_type": "code",
      "source": [
        "model=Sequential()\n",
        "# convolutional layers\n",
        "model.add(Conv2D(128, kernel_size=(3,3), activation='relu', input_shape=(128,128,1)))\n",
        "model.add(MaxPooling2D(pool_size=(2,2)))\n",
        "model.add(Dropout(0.4))\n",
        "\n",
        "model.add(Conv2D (256, kernel_size=(3,3), activation='relu'))\n",
        "model.add(MaxPooling2D(pool_size=(2,2)))\n",
        "model.add(Dropout(0.4))\n",
        "model.add(Conv2D(512, kernel_size=(3,3), activation='relu'))\n",
        "model.add(MaxPooling2D(pool_size=(2,2)))\n",
        "model.add(Dropout(0.4))\n",
        "\n",
        "model.add(Conv2D(512, kernel_size=(3,3), activation='relu'))\n",
        "model.add(MaxPooling2D(pool_size=(2,2)))\n",
        "model.add(Dropout(0.4))\n",
        "\n",
        "model.add(Flatten())\n",
        "# fully connected layers\n",
        "model.add(Dense (512, activation='relu'))\n",
        "model.add(Dropout(0.4))\n",
        "model.add(Dense (64, activation='relu'))\n",
        "model.add(Dropout(0.2))\n",
        "model.add(Dense (256, activation='relu'))\n",
        "model.add(Dropout(0.3))\n",
        "model.add(Dense (64, activation='relu'))\n",
        "model.add(Dropout(0.2))\n",
        "model.add(Dense (256, activation='relu'))\n",
        "model.add(Dropout(0.3))\n",
        "\n",
        "#output layer\n",
        "model.add(Dense(36, activation='softmax'))\n"
      ],
      "metadata": {
        "id": "f0KbX2JqxI3-"
      },
      "execution_count": null,
      "outputs": []
    },
    {
      "cell_type": "code",
      "source": [
        "model.summary()"
      ],
      "metadata": {
        "colab": {
          "base_uri": "https://localhost:8080/"
        },
        "id": "5ScL_jUm0UVg",
        "outputId": "e421e550-afe4-40fb-f9c3-4ee54f0a7a62"
      },
      "execution_count": null,
      "outputs": [
        {
          "output_type": "stream",
          "name": "stdout",
          "text": [
            "Model: \"sequential\"\n",
            "_________________________________________________________________\n",
            " Layer (type)                Output Shape              Param #   \n",
            "=================================================================\n",
            " conv2d (Conv2D)             (None, 126, 126, 128)     1280      \n",
            "                                                                 \n",
            " max_pooling2d (MaxPooling2  (None, 63, 63, 128)       0         \n",
            " D)                                                              \n",
            "                                                                 \n",
            " dropout (Dropout)           (None, 63, 63, 128)       0         \n",
            "                                                                 \n",
            " conv2d_1 (Conv2D)           (None, 61, 61, 256)       295168    \n",
            "                                                                 \n",
            " max_pooling2d_1 (MaxPoolin  (None, 30, 30, 256)       0         \n",
            " g2D)                                                            \n",
            "                                                                 \n",
            " dropout_1 (Dropout)         (None, 30, 30, 256)       0         \n",
            "                                                                 \n",
            " conv2d_2 (Conv2D)           (None, 28, 28, 512)       1180160   \n",
            "                                                                 \n",
            " max_pooling2d_2 (MaxPoolin  (None, 14, 14, 512)       0         \n",
            " g2D)                                                            \n",
            "                                                                 \n",
            " dropout_2 (Dropout)         (None, 14, 14, 512)       0         \n",
            "                                                                 \n",
            " conv2d_3 (Conv2D)           (None, 12, 12, 512)       2359808   \n",
            "                                                                 \n",
            " max_pooling2d_3 (MaxPoolin  (None, 6, 6, 512)         0         \n",
            " g2D)                                                            \n",
            "                                                                 \n",
            " dropout_3 (Dropout)         (None, 6, 6, 512)         0         \n",
            "                                                                 \n",
            " flatten (Flatten)           (None, 18432)             0         \n",
            "                                                                 \n",
            " dense (Dense)               (None, 512)               9437696   \n",
            "                                                                 \n",
            " dropout_4 (Dropout)         (None, 512)               0         \n",
            "                                                                 \n",
            " dense_1 (Dense)             (None, 64)                32832     \n",
            "                                                                 \n",
            " dropout_5 (Dropout)         (None, 64)                0         \n",
            "                                                                 \n",
            " dense_2 (Dense)             (None, 256)               16640     \n",
            "                                                                 \n",
            " dropout_6 (Dropout)         (None, 256)               0         \n",
            "                                                                 \n",
            " dense_3 (Dense)             (None, 64)                16448     \n",
            "                                                                 \n",
            " dropout_7 (Dropout)         (None, 64)                0         \n",
            "                                                                 \n",
            " dense_4 (Dense)             (None, 256)               16640     \n",
            "                                                                 \n",
            " dropout_8 (Dropout)         (None, 256)               0         \n",
            "                                                                 \n",
            " dense_5 (Dense)             (None, 6)                 1542      \n",
            "                                                                 \n",
            "=================================================================\n",
            "Total params: 13358214 (50.96 MB)\n",
            "Trainable params: 13358214 (50.96 MB)\n",
            "Non-trainable params: 0 (0.00 Byte)\n",
            "_________________________________________________________________\n"
          ]
        }
      ]
    },
    {
      "cell_type": "code",
      "source": [
        "model.compile(optimizer='adam', loss='categorical_crossentropy', metrics=['accuracy'])"
      ],
      "metadata": {
        "id": "YebxGnJm0cyK"
      },
      "execution_count": null,
      "outputs": []
    },
    {
      "cell_type": "code",
      "source": [
        "!rm -rf Logs\n",
        "logdir= os.path.join(\"Logs\")\n",
        "tensorboard_callback= TensorBoard(log_dir=logdir)"
      ],
      "metadata": {
        "id": "uw-YjIV41fer"
      },
      "execution_count": null,
      "outputs": []
    },
    {
      "cell_type": "code",
      "source": [
        "from tensorflow.keras.callbacks import TensorBoard\n",
        "\n",
        "# Define TensorBoard callback\n",
        "tensorboard_callback = TensorBoard(log_dir='./logs')\n",
        "\n",
        "# Now, you can use model.fit() with the defined callback\n",
        "model.fit(\n",
        "    train_generator,\n",
        "    steps_per_epoch=train_generator.samples // batch_size,\n",
        "    epochs=100,\n",
        "    validation_data=validation_generator,\n",
        "    validation_steps=validation_generator.samples // batch_size,\n",
        "    callbacks=[tensorboard_callback]\n",
        ")"
      ],
      "metadata": {
        "colab": {
          "base_uri": "https://localhost:8080/"
        },
        "id": "qzhc0-X52A-X",
        "outputId": "56ca6470-68a1-4c87-9a5e-09865a1ee04c"
      },
      "execution_count": null,
      "outputs": [
        {
          "output_type": "stream",
          "name": "stdout",
          "text": [
            "Epoch 1/100\n",
            "36/36 [==============================] - 44s 826ms/step - loss: 3.5861 - accuracy: 0.0373 - val_loss: 3.5973 - val_accuracy: 0.0123\n",
            "Epoch 2/100\n",
            "36/36 [==============================] - 18s 483ms/step - loss: 3.5354 - accuracy: 0.0559 - val_loss: 3.6299 - val_accuracy: 0.0493\n",
            "Epoch 3/100\n",
            "36/36 [==============================] - 19s 538ms/step - loss: 3.3842 - accuracy: 0.0711 - val_loss: 3.5866 - val_accuracy: 0.0506\n",
            "Epoch 4/100\n",
            "36/36 [==============================] - 19s 536ms/step - loss: 3.2439 - accuracy: 0.0864 - val_loss: 3.5731 - val_accuracy: 0.0426\n",
            "Epoch 5/100\n",
            "36/36 [==============================] - 17s 478ms/step - loss: 3.0071 - accuracy: 0.1024 - val_loss: 3.4954 - val_accuracy: 0.0565\n",
            "Epoch 6/100\n",
            "36/36 [==============================] - 17s 479ms/step - loss: 2.7456 - accuracy: 0.1575 - val_loss: 3.4089 - val_accuracy: 0.0606\n",
            "Epoch 7/100\n",
            "36/36 [==============================] - 17s 481ms/step - loss: 2.4739 - accuracy: 0.2224 - val_loss: 3.5012 - val_accuracy: 0.0711\n",
            "Epoch 8/100\n",
            "36/36 [==============================] - 18s 489ms/step - loss: 2.2119 - accuracy: 0.2792 - val_loss: 3.5181 - val_accuracy: 0.0905\n",
            "Epoch 9/100\n",
            "36/36 [==============================] - 17s 477ms/step - loss: 1.9096 - accuracy: 0.3654 - val_loss: 3.7299 - val_accuracy: 0.1086\n",
            "Epoch 10/100\n",
            "36/36 [==============================] - 17s 479ms/step - loss: 1.6436 - accuracy: 0.4486 - val_loss: 3.9535 - val_accuracy: 0.0962\n",
            "Epoch 11/100\n",
            "36/36 [==============================] - 17s 481ms/step - loss: 1.3409 - accuracy: 0.5392 - val_loss: 4.1030 - val_accuracy: 0.0666\n",
            "Epoch 12/100\n",
            "36/36 [==============================] - 18s 486ms/step - loss: 1.1079 - accuracy: 0.6181 - val_loss: 4.7181 - val_accuracy: 0.0442\n",
            "Epoch 13/100\n",
            "36/36 [==============================] - 17s 476ms/step - loss: 0.9475 - accuracy: 0.6813 - val_loss: 5.0959 - val_accuracy: 0.0569\n",
            "Epoch 14/100\n",
            "36/36 [==============================] - 18s 484ms/step - loss: 0.7778 - accuracy: 0.7410 - val_loss: 4.8776 - val_accuracy: 0.0483\n",
            "Epoch 15/100\n",
            "36/36 [==============================] - 17s 477ms/step - loss: 0.6565 - accuracy: 0.7754 - val_loss: 5.5549 - val_accuracy: 0.0814\n",
            "Epoch 16/100\n",
            "36/36 [==============================] - 17s 482ms/step - loss: 0.5649 - accuracy: 0.8083 - val_loss: 5.1392 - val_accuracy: 0.0892\n",
            "Epoch 17/100\n",
            "36/36 [==============================] - 17s 480ms/step - loss: 0.5110 - accuracy: 0.8265 - val_loss: 5.6157 - val_accuracy: 0.0676\n",
            "Epoch 18/100\n",
            "36/36 [==============================] - 17s 476ms/step - loss: 0.4391 - accuracy: 0.8574 - val_loss: 5.9304 - val_accuracy: 0.0685\n",
            "Epoch 19/100\n",
            "36/36 [==============================] - 17s 489ms/step - loss: 0.4152 - accuracy: 0.8664 - val_loss: 5.5084 - val_accuracy: 0.0975\n",
            "Epoch 20/100\n",
            "36/36 [==============================] - 19s 532ms/step - loss: 0.3475 - accuracy: 0.8835 - val_loss: 4.8987 - val_accuracy: 0.0506\n",
            "Epoch 21/100\n",
            "36/36 [==============================] - 18s 483ms/step - loss: 0.3181 - accuracy: 0.8995 - val_loss: 5.3208 - val_accuracy: 0.0705\n",
            "Epoch 22/100\n",
            "36/36 [==============================] - 17s 478ms/step - loss: 0.2897 - accuracy: 0.9033 - val_loss: 5.5778 - val_accuracy: 0.0769\n",
            "Epoch 23/100\n",
            "36/36 [==============================] - 17s 480ms/step - loss: 0.2764 - accuracy: 0.9061 - val_loss: 5.2332 - val_accuracy: 0.0833\n",
            "Epoch 24/100\n",
            "36/36 [==============================] - 19s 529ms/step - loss: 0.2644 - accuracy: 0.9164 - val_loss: 5.1513 - val_accuracy: 0.0761\n",
            "Epoch 25/100\n",
            "36/36 [==============================] - 18s 483ms/step - loss: 0.2576 - accuracy: 0.9158 - val_loss: 5.6803 - val_accuracy: 0.0763\n",
            "Epoch 26/100\n",
            "36/36 [==============================] - 17s 473ms/step - loss: 0.2302 - accuracy: 0.9294 - val_loss: 4.8389 - val_accuracy: 0.0771\n",
            "Epoch 27/100\n",
            "36/36 [==============================] - 17s 477ms/step - loss: 0.2047 - accuracy: 0.9335 - val_loss: 5.8410 - val_accuracy: 0.0730\n",
            "Epoch 28/100\n",
            "36/36 [==============================] - 17s 481ms/step - loss: 0.2044 - accuracy: 0.9353 - val_loss: 5.6107 - val_accuracy: 0.0687\n",
            "Epoch 29/100\n",
            "36/36 [==============================] - 17s 478ms/step - loss: 0.2156 - accuracy: 0.9379 - val_loss: 5.1502 - val_accuracy: 0.0483\n",
            "Epoch 30/100\n",
            "36/36 [==============================] - 17s 471ms/step - loss: 0.1739 - accuracy: 0.9463 - val_loss: 6.0227 - val_accuracy: 0.0724\n",
            "Epoch 31/100\n",
            "36/36 [==============================] - 17s 474ms/step - loss: 0.1686 - accuracy: 0.9524 - val_loss: 5.4008 - val_accuracy: 0.0748\n",
            "Epoch 32/100\n",
            "36/36 [==============================] - 17s 479ms/step - loss: 0.1564 - accuracy: 0.9542 - val_loss: 5.5237 - val_accuracy: 0.1024\n",
            "Epoch 33/100\n",
            "36/36 [==============================] - 17s 482ms/step - loss: 0.1648 - accuracy: 0.9517 - val_loss: 5.2550 - val_accuracy: 0.0981\n",
            "Epoch 34/100\n",
            "36/36 [==============================] - 17s 472ms/step - loss: 0.1440 - accuracy: 0.9583 - val_loss: 5.9028 - val_accuracy: 0.0931\n",
            "Epoch 35/100\n",
            "36/36 [==============================] - 17s 473ms/step - loss: 0.1399 - accuracy: 0.9592 - val_loss: 5.1801 - val_accuracy: 0.0839\n",
            "Epoch 36/100\n",
            "36/36 [==============================] - 17s 473ms/step - loss: 0.1464 - accuracy: 0.9574 - val_loss: 5.8441 - val_accuracy: 0.1009\n",
            "Epoch 37/100\n",
            "36/36 [==============================] - 17s 482ms/step - loss: 0.1410 - accuracy: 0.9631 - val_loss: 6.3863 - val_accuracy: 0.0520\n",
            "Epoch 38/100\n",
            "36/36 [==============================] - 17s 474ms/step - loss: 0.1329 - accuracy: 0.9629 - val_loss: 5.7461 - val_accuracy: 0.0888\n",
            "Epoch 39/100\n",
            "36/36 [==============================] - 17s 470ms/step - loss: 0.1126 - accuracy: 0.9684 - val_loss: 5.8923 - val_accuracy: 0.0933\n",
            "Epoch 40/100\n",
            "36/36 [==============================] - 19s 526ms/step - loss: 0.1115 - accuracy: 0.9634 - val_loss: 6.2084 - val_accuracy: 0.0983\n",
            "Epoch 41/100\n",
            "36/36 [==============================] - 19s 525ms/step - loss: 0.1039 - accuracy: 0.9715 - val_loss: 6.3630 - val_accuracy: 0.1022\n",
            "Epoch 42/100\n",
            "36/36 [==============================] - 17s 472ms/step - loss: 0.1240 - accuracy: 0.9658 - val_loss: 5.3419 - val_accuracy: 0.0956\n",
            "Epoch 43/100\n",
            "36/36 [==============================] - 19s 524ms/step - loss: 0.1189 - accuracy: 0.9662 - val_loss: 4.9432 - val_accuracy: 0.1069\n",
            "Epoch 44/100\n",
            "36/36 [==============================] - 17s 469ms/step - loss: 0.0931 - accuracy: 0.9719 - val_loss: 5.4864 - val_accuracy: 0.1194\n",
            "Epoch 45/100\n",
            "36/36 [==============================] - 17s 477ms/step - loss: 0.1014 - accuracy: 0.9728 - val_loss: 5.3490 - val_accuracy: 0.1071\n",
            "Epoch 46/100\n",
            "36/36 [==============================] - 19s 525ms/step - loss: 0.1131 - accuracy: 0.9675 - val_loss: 4.9225 - val_accuracy: 0.0995\n",
            "Epoch 47/100\n",
            "36/36 [==============================] - 17s 470ms/step - loss: 0.1137 - accuracy: 0.9719 - val_loss: 6.0869 - val_accuracy: 0.0561\n",
            "Epoch 48/100\n",
            "36/36 [==============================] - 19s 530ms/step - loss: 0.1116 - accuracy: 0.9702 - val_loss: 5.2603 - val_accuracy: 0.1012\n",
            "Epoch 49/100\n",
            "36/36 [==============================] - 19s 524ms/step - loss: 0.0802 - accuracy: 0.9785 - val_loss: 5.2556 - val_accuracy: 0.0948\n",
            "Epoch 50/100\n",
            "36/36 [==============================] - 17s 481ms/step - loss: 0.1063 - accuracy: 0.9719 - val_loss: 4.6826 - val_accuracy: 0.0907\n",
            "Epoch 51/100\n",
            "36/36 [==============================] - 19s 526ms/step - loss: 0.1074 - accuracy: 0.9730 - val_loss: 4.3491 - val_accuracy: 0.0861\n",
            "Epoch 52/100\n",
            "36/36 [==============================] - 17s 474ms/step - loss: 0.0693 - accuracy: 0.9800 - val_loss: 4.4856 - val_accuracy: 0.0989\n",
            "Epoch 53/100\n",
            "36/36 [==============================] - 19s 526ms/step - loss: 0.0688 - accuracy: 0.9827 - val_loss: 6.3481 - val_accuracy: 0.0812\n",
            "Epoch 54/100\n",
            "36/36 [==============================] - 17s 473ms/step - loss: 0.0815 - accuracy: 0.9767 - val_loss: 4.8731 - val_accuracy: 0.1024\n",
            "Epoch 55/100\n",
            "36/36 [==============================] - 17s 469ms/step - loss: 0.0865 - accuracy: 0.9776 - val_loss: 4.5980 - val_accuracy: 0.0942\n",
            "Epoch 56/100\n",
            "36/36 [==============================] - 17s 470ms/step - loss: 0.0665 - accuracy: 0.9814 - val_loss: 5.0519 - val_accuracy: 0.0940\n",
            "Epoch 57/100\n",
            "36/36 [==============================] - 17s 470ms/step - loss: 0.0764 - accuracy: 0.9770 - val_loss: 4.9743 - val_accuracy: 0.1036\n",
            "Epoch 58/100\n",
            "36/36 [==============================] - 19s 528ms/step - loss: 0.0602 - accuracy: 0.9835 - val_loss: 5.2366 - val_accuracy: 0.0882\n",
            "Epoch 59/100\n",
            "36/36 [==============================] - 17s 468ms/step - loss: 0.0628 - accuracy: 0.9846 - val_loss: 5.2442 - val_accuracy: 0.0989\n",
            "Epoch 60/100\n",
            "36/36 [==============================] - 19s 524ms/step - loss: 0.0735 - accuracy: 0.9781 - val_loss: 5.2632 - val_accuracy: 0.0787\n",
            "Epoch 61/100\n",
            "36/36 [==============================] - 17s 468ms/step - loss: 0.0854 - accuracy: 0.9765 - val_loss: 5.3435 - val_accuracy: 0.0689\n",
            "Epoch 62/100\n",
            "36/36 [==============================] - 19s 525ms/step - loss: 0.0830 - accuracy: 0.9783 - val_loss: 4.9421 - val_accuracy: 0.0964\n",
            "Epoch 63/100\n",
            "36/36 [==============================] - 17s 469ms/step - loss: 0.0582 - accuracy: 0.9838 - val_loss: 5.4207 - val_accuracy: 0.0874\n",
            "Epoch 64/100\n",
            "36/36 [==============================] - 17s 473ms/step - loss: 0.0733 - accuracy: 0.9816 - val_loss: 5.8987 - val_accuracy: 0.0814\n",
            "Epoch 65/100\n",
            "36/36 [==============================] - 19s 526ms/step - loss: 0.0693 - accuracy: 0.9792 - val_loss: 5.4992 - val_accuracy: 0.0884\n",
            "Epoch 66/100\n",
            "36/36 [==============================] - 17s 470ms/step - loss: 0.0593 - accuracy: 0.9849 - val_loss: 5.9782 - val_accuracy: 0.0960\n",
            "Epoch 67/100\n",
            "36/36 [==============================] - 17s 472ms/step - loss: 0.0591 - accuracy: 0.9831 - val_loss: 5.6264 - val_accuracy: 0.0855\n",
            "Epoch 68/100\n",
            "36/36 [==============================] - 17s 474ms/step - loss: 0.0691 - accuracy: 0.9807 - val_loss: 5.8881 - val_accuracy: 0.0851\n",
            "Epoch 69/100\n",
            "36/36 [==============================] - 17s 467ms/step - loss: 0.0594 - accuracy: 0.9842 - val_loss: 5.1239 - val_accuracy: 0.0543\n",
            "Epoch 70/100\n",
            "36/36 [==============================] - 17s 475ms/step - loss: 0.0497 - accuracy: 0.9838 - val_loss: 5.1462 - val_accuracy: 0.0919\n",
            "Epoch 71/100\n",
            "36/36 [==============================] - 17s 471ms/step - loss: 0.0681 - accuracy: 0.9825 - val_loss: 4.8012 - val_accuracy: 0.0979\n",
            "Epoch 72/100\n",
            "36/36 [==============================] - 17s 467ms/step - loss: 0.0524 - accuracy: 0.9868 - val_loss: 5.3265 - val_accuracy: 0.1067\n",
            "Epoch 73/100\n",
            "36/36 [==============================] - 17s 473ms/step - loss: 0.0469 - accuracy: 0.9871 - val_loss: 5.3136 - val_accuracy: 0.0944\n",
            "Epoch 74/100\n",
            "36/36 [==============================] - 19s 523ms/step - loss: 0.0567 - accuracy: 0.9842 - val_loss: 4.9496 - val_accuracy: 0.0964\n",
            "Epoch 75/100\n",
            "36/36 [==============================] - 17s 471ms/step - loss: 0.0422 - accuracy: 0.9897 - val_loss: 5.6312 - val_accuracy: 0.0964\n",
            "Epoch 76/100\n",
            "36/36 [==============================] - 17s 469ms/step - loss: 0.0531 - accuracy: 0.9873 - val_loss: 5.2764 - val_accuracy: 0.0995\n",
            "Epoch 77/100\n",
            "36/36 [==============================] - 19s 527ms/step - loss: 0.0623 - accuracy: 0.9860 - val_loss: 5.9162 - val_accuracy: 0.0847\n",
            "Epoch 78/100\n",
            "36/36 [==============================] - 17s 465ms/step - loss: 0.0795 - accuracy: 0.9825 - val_loss: 5.4307 - val_accuracy: 0.0820\n",
            "Epoch 79/100\n",
            "36/36 [==============================] - 19s 525ms/step - loss: 0.0551 - accuracy: 0.9853 - val_loss: 6.0428 - val_accuracy: 0.0987\n",
            "Epoch 80/100\n",
            "36/36 [==============================] - 19s 522ms/step - loss: 0.0457 - accuracy: 0.9857 - val_loss: 6.1116 - val_accuracy: 0.0888\n",
            "Epoch 81/100\n",
            "36/36 [==============================] - 17s 472ms/step - loss: 0.0464 - accuracy: 0.9882 - val_loss: 5.7506 - val_accuracy: 0.0979\n",
            "Epoch 82/100\n",
            "36/36 [==============================] - 17s 466ms/step - loss: 0.0599 - accuracy: 0.9853 - val_loss: 4.9411 - val_accuracy: 0.0843\n",
            "Epoch 83/100\n",
            "36/36 [==============================] - 17s 471ms/step - loss: 0.0619 - accuracy: 0.9840 - val_loss: 6.2900 - val_accuracy: 0.0917\n",
            "Epoch 84/100\n",
            "36/36 [==============================] - 17s 465ms/step - loss: 0.0571 - accuracy: 0.9835 - val_loss: 5.9307 - val_accuracy: 0.1092\n",
            "Epoch 85/100\n",
            "36/36 [==============================] - 17s 471ms/step - loss: 0.0570 - accuracy: 0.9860 - val_loss: 5.8329 - val_accuracy: 0.1026\n",
            "Epoch 86/100\n",
            "36/36 [==============================] - 17s 471ms/step - loss: 0.0462 - accuracy: 0.9882 - val_loss: 5.5038 - val_accuracy: 0.1028\n",
            "Epoch 87/100\n",
            "36/36 [==============================] - 17s 466ms/step - loss: 0.0428 - accuracy: 0.9882 - val_loss: 5.3331 - val_accuracy: 0.0960\n",
            "Epoch 88/100\n",
            "36/36 [==============================] - 17s 474ms/step - loss: 0.0449 - accuracy: 0.9875 - val_loss: 6.9594 - val_accuracy: 0.0954\n",
            "Epoch 89/100\n",
            "36/36 [==============================] - 19s 524ms/step - loss: 0.0449 - accuracy: 0.9873 - val_loss: 6.3058 - val_accuracy: 0.0701\n",
            "Epoch 90/100\n",
            "36/36 [==============================] - 17s 471ms/step - loss: 0.0738 - accuracy: 0.9846 - val_loss: 5.1199 - val_accuracy: 0.0742\n",
            "Epoch 91/100\n",
            "36/36 [==============================] - 19s 522ms/step - loss: 0.0527 - accuracy: 0.9864 - val_loss: 5.0653 - val_accuracy: 0.0894\n",
            "Epoch 92/100\n",
            "36/36 [==============================] - 19s 521ms/step - loss: 0.0649 - accuracy: 0.9857 - val_loss: 6.0840 - val_accuracy: 0.0835\n",
            "Epoch 93/100\n",
            "36/36 [==============================] - 17s 463ms/step - loss: 0.0559 - accuracy: 0.9857 - val_loss: 5.3198 - val_accuracy: 0.0890\n",
            "Epoch 94/100\n",
            "36/36 [==============================] - 19s 521ms/step - loss: 0.0533 - accuracy: 0.9851 - val_loss: 5.2139 - val_accuracy: 0.0818\n",
            "Epoch 95/100\n",
            "36/36 [==============================] - 17s 464ms/step - loss: 0.0622 - accuracy: 0.9820 - val_loss: 4.9674 - val_accuracy: 0.0802\n",
            "Epoch 96/100\n",
            "36/36 [==============================] - 17s 467ms/step - loss: 0.0387 - accuracy: 0.9893 - val_loss: 4.9630 - val_accuracy: 0.0755\n",
            "Epoch 97/100\n",
            "36/36 [==============================] - 19s 520ms/step - loss: 0.0364 - accuracy: 0.9903 - val_loss: 4.5167 - val_accuracy: 0.0954\n",
            "Epoch 98/100\n",
            "36/36 [==============================] - 19s 519ms/step - loss: 0.0297 - accuracy: 0.9908 - val_loss: 4.8194 - val_accuracy: 0.0888\n",
            "Epoch 99/100\n",
            "36/36 [==============================] - 17s 466ms/step - loss: 0.0425 - accuracy: 0.9890 - val_loss: 5.3143 - val_accuracy: 0.0818\n",
            "Epoch 100/100\n",
            "36/36 [==============================] - 17s 465ms/step - loss: 0.0460 - accuracy: 0.9879 - val_loss: 5.0633 - val_accuracy: 0.0876\n"
          ]
        },
        {
          "output_type": "execute_result",
          "data": {
            "text/plain": [
              "<keras.src.callbacks.History at 0x7d26602bb1f0>"
            ]
          },
          "metadata": {},
          "execution_count": 34
        }
      ]
    },
    {
      "cell_type": "code",
      "source": [
        "%load_ext tensorboard\n",
        "%tensorboard --logdir Logs"
      ],
      "metadata": {
        "colab": {
          "base_uri": "https://localhost:8080/",
          "height": 856
        },
        "id": "E1hOy0VX2LV8",
        "outputId": "5da9bfb7-e489-4c11-ee1a-7d535e8dcc24"
      },
      "execution_count": null,
      "outputs": [
        {
          "output_type": "stream",
          "name": "stdout",
          "text": [
            "The tensorboard extension is already loaded. To reload it, use:\n",
            "  %reload_ext tensorboard\n"
          ]
        },
        {
          "output_type": "display_data",
          "data": {
            "text/plain": [
              "<IPython.core.display.Javascript object>"
            ],
            "application/javascript": [
              "\n",
              "        (async () => {\n",
              "            const url = new URL(await google.colab.kernel.proxyPort(6006, {'cache': true}));\n",
              "            url.searchParams.set('tensorboardColab', 'true');\n",
              "            const iframe = document.createElement('iframe');\n",
              "            iframe.src = url;\n",
              "            iframe.setAttribute('width', '100%');\n",
              "            iframe.setAttribute('height', '800');\n",
              "            iframe.setAttribute('frameborder', 0);\n",
              "            document.body.appendChild(iframe);\n",
              "        })();\n",
              "    "
            ]
          },
          "metadata": {}
        }
      ]
    },
    {
      "cell_type": "code",
      "source": [
        "model_json = model.to_json()\n",
        "with open(\"/content/drive/MyDrive/signlanguagedetection128x128.json\",'w') as json_file:\n",
        "  json_file.write(model_json)\n",
        "  model.save(\"/content/drive/MyDrive/signlanguagedetection128x128.h5\")"
      ],
      "metadata": {
        "id": "0M2F-zWJ2Ozk"
      },
      "execution_count": 50,
      "outputs": []
    },
    {
      "cell_type": "code",
      "source": [
        "# Define the directory path\n",
        "directory_path = \"C:\\\\Users\\\\potiv\\\\Downloads\"\n",
        "\n",
        "# Ensure the directory exists, create it if it doesn't\n",
        "if not os.path.exists(directory_path):\n",
        "    os.makedirs(directory_path)\n",
        "\n",
        "# Define the file paths\n",
        "json_file_path = os.path.join(directory_path, \"signlanguagedetection128x128.json\")\n",
        "h5_model_path = os.path.join(directory_path, \"signlanguagedetection128x128.h5\")\n",
        "\n",
        "# Write the JSON file\n",
        "with open(json_file_path, 'w') as json_file:\n",
        "    json_file.write(model_json)\n",
        "\n",
        "# Save the model\n",
        "model.save(h5_model_path)\n",
        "\n"
      ],
      "metadata": {
        "id": "UUd8cQodE9ZL"
      },
      "execution_count": null,
      "outputs": []
    }
  ]
}